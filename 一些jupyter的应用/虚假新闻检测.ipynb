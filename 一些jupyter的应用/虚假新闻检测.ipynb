{
 "cells": [
  {
   "cell_type": "code",
   "execution_count": 1,
   "metadata": {},
   "outputs": [],
   "source": [
    "# 读取数据\n",
    "import pandas as pd\n",
    "train_labled = pd.read_csv('data/data23977/train.csv')\n",
    "test = pd.read_csv('data/data23977/test_dataset.csv')\n",
    "sub = pd.read_csv('data/data23977/submit_example.csv')"
   ]
  },
  {
   "cell_type": "code",
   "execution_count": 2,
   "metadata": {},
   "outputs": [],
   "source": [
    "label = []\n",
    "ncw_label = train_labled[\"ncw_label\"].tolist()\n",
    "fake_label = train_labled[\"fake_label\"].tolist()\n",
    "real_label = train_labled[\"real_label\"].tolist()\n",
    "for i in range(len(train_labled)):\n",
    "    if ncw_label[i] == 1 and fake_label[i] == 0 and real_label[i] == 0:\n",
    "        label.append(0)\n",
    "    elif ncw_label[i] == 0 and fake_label[i] == 1 and real_label[i] == 0:\n",
    "        label.append(1)\n",
    "    elif ncw_label[i] == 0 and fake_label[i] == 0 and real_label[i] == 1:\n",
    "        label.append(2)\n",
    "train_labled[\"label\"] = label"
   ]
  },
  {
   "cell_type": "code",
   "execution_count": 3,
   "metadata": {},
   "outputs": [
    {
     "name": "stdout",
     "output_type": "stream",
     "text": [
      "(49910, 10)\n",
      "(2614, 6)\n",
      "Index(['id', 'content', 'picture_lists', 'category', 'ncw_label', 'fake_label',\n",
      "       'real_label', 'comment_2c', 'comment_all', 'label'],\n",
      "      dtype='object')\n"
     ]
    }
   ],
   "source": [
    "print(train_labled.shape)\n",
    "print(test.shape)\n",
    "print(train_labled.columns)"
   ]
  },
  {
   "cell_type": "code",
   "execution_count": 4,
   "metadata": {},
   "outputs": [
    {
     "data": {
      "text/html": [
       "<div>\n",
       "<style scoped>\n",
       "    .dataframe tbody tr th:only-of-type {\n",
       "        vertical-align: middle;\n",
       "    }\n",
       "\n",
       "    .dataframe tbody tr th {\n",
       "        vertical-align: top;\n",
       "    }\n",
       "\n",
       "    .dataframe thead th {\n",
       "        text-align: right;\n",
       "    }\n",
       "</style>\n",
       "<table border=\"1\" class=\"dataframe\">\n",
       "  <thead>\n",
       "    <tr style=\"text-align: right;\">\n",
       "      <th></th>\n",
       "      <th>id</th>\n",
       "      <th>content</th>\n",
       "      <th>picture_lists</th>\n",
       "      <th>category</th>\n",
       "      <th>ncw_label</th>\n",
       "      <th>fake_label</th>\n",
       "      <th>real_label</th>\n",
       "      <th>comment_2c</th>\n",
       "      <th>comment_all</th>\n",
       "      <th>label</th>\n",
       "    </tr>\n",
       "  </thead>\n",
       "  <tbody>\n",
       "    <tr>\n",
       "      <td>0</td>\n",
       "      <td>4028762460708675</td>\n",
       "      <td>回复新浪网友对博文【国家文物局限制鉴宝节目现场估价转】的评论：;;查看原文：</td>\n",
       "      <td>NaN</td>\n",
       "      <td>文体娱乐</td>\n",
       "      <td>0</td>\n",
       "      <td>0</td>\n",
       "      <td>1</td>\n",
       "      <td>NaN</td>\n",
       "      <td>NaN</td>\n",
       "      <td>2</td>\n",
       "    </tr>\n",
       "    <tr>\n",
       "      <td>1</td>\n",
       "      <td>4126670854660291</td>\n",
       "      <td>//分享网易新闻:《发生在昆明的火锅店老板“辱滇门”，云南人该愤怒还是羞愧》|发生在昆明.....</td>\n",
       "      <td>63ad082a189566eed7c4bb3e4bc55012.jpg</td>\n",
       "      <td>社会生活</td>\n",
       "      <td>0</td>\n",
       "      <td>0</td>\n",
       "      <td>1</td>\n",
       "      <td>NaN</td>\n",
       "      <td>NaN</td>\n",
       "      <td>2</td>\n",
       "    </tr>\n",
       "    <tr>\n",
       "      <td>2</td>\n",
       "      <td>3702441948299962</td>\n",
       "      <td>西宁城管围殴民警扬言要把警察打死|西宁城管围...</td>\n",
       "      <td>4986dc2a5f09a87c7af5dfc57d7775cd.jpg</td>\n",
       "      <td>社会生活</td>\n",
       "      <td>0</td>\n",
       "      <td>0</td>\n",
       "      <td>1</td>\n",
       "      <td>NaN</td>\n",
       "      <td>NaN</td>\n",
       "      <td>2</td>\n",
       "    </tr>\n",
       "  </tbody>\n",
       "</table>\n",
       "</div>"
      ],
      "text/plain": [
       "                 id                                            content  \\\n",
       "0  4028762460708675             回复新浪网友对博文【国家文物局限制鉴宝节目现场估价转】的评论：;;查看原文：   \n",
       "1  4126670854660291  //分享网易新闻:《发生在昆明的火锅店老板“辱滇门”，云南人该愤怒还是羞愧》|发生在昆明.....   \n",
       "2  3702441948299962                          西宁城管围殴民警扬言要把警察打死|西宁城管围...   \n",
       "\n",
       "                          picture_lists category  ncw_label  fake_label  \\\n",
       "0                                   NaN     文体娱乐          0           0   \n",
       "1  63ad082a189566eed7c4bb3e4bc55012.jpg     社会生活          0           0   \n",
       "2  4986dc2a5f09a87c7af5dfc57d7775cd.jpg     社会生活          0           0   \n",
       "\n",
       "   real_label comment_2c comment_all  label  \n",
       "0           1        NaN         NaN      2  \n",
       "1           1        NaN         NaN      2  \n",
       "2           1        NaN         NaN      2  "
      ]
     },
     "execution_count": 4,
     "metadata": {},
     "output_type": "execute_result"
    }
   ],
   "source": [
    "train_labled.head(3)"
   ]
  },
  {
   "cell_type": "code",
   "execution_count": 5,
   "metadata": {},
   "outputs": [
    {
     "name": "stdout",
     "output_type": "stream",
     "text": [
      "Looking in indexes: https://pypi.tuna.tsinghua.edu.cn/simple\n",
      "Requirement already up-to-date: paddlehub in d:\\rgzn\\lib\\site-packages (1.8.3)\n",
      "Requirement already satisfied, skipping upgrade: opencv-python in d:\\rgzn\\lib\\site-packages (from paddlehub) (4.2.0.32)\n",
      "Requirement already satisfied, skipping upgrade: pre-commit in d:\\rgzn\\lib\\site-packages (from paddlehub) (2.9.2)\n",
      "Requirement already satisfied, skipping upgrade: colorlog in d:\\rgzn\\lib\\site-packages (from paddlehub) (4.6.2)\n",
      "Requirement already satisfied, skipping upgrade: flask>=1.1.0 in d:\\rgzn\\lib\\site-packages (from paddlehub) (1.1.1)\n",
      "Requirement already satisfied, skipping upgrade: tqdm in d:\\rgzn\\lib\\site-packages (from paddlehub) (4.36.1)\n",
      "Requirement already satisfied, skipping upgrade: flake8 in d:\\rgzn\\lib\\site-packages (from paddlehub) (3.8.4)\n",
      "Requirement already satisfied, skipping upgrade: nltk in d:\\rgzn\\lib\\site-packages (from paddlehub) (3.4.5)\n",
      "Requirement already satisfied, skipping upgrade: cma>=2.7.0 in d:\\rgzn\\lib\\site-packages (from paddlehub) (3.0.3)\n",
      "Requirement already satisfied, skipping upgrade: six>=1.10.0 in d:\\rgzn\\lib\\site-packages (from paddlehub) (1.12.0)\n",
      "Requirement already satisfied, skipping upgrade: yapf==0.26.0 in d:\\rgzn\\lib\\site-packages (from paddlehub) (0.26.0)\n",
      "Requirement already satisfied, skipping upgrade: sentencepiece in d:\\rgzn\\lib\\site-packages (from paddlehub) (0.1.94)\n",
      "Requirement already satisfied, skipping upgrade: visualdl in d:\\rgzn\\lib\\site-packages (from paddlehub) (2.0.5)\n",
      "Requirement already satisfied, skipping upgrade: protobuf>=3.6.0 in d:\\rgzn\\lib\\site-packages (from paddlehub) (3.14.0)\n",
      "Requirement already satisfied, skipping upgrade: pandas in d:\\rgzn\\lib\\site-packages (from paddlehub) (0.25.1)\n",
      "Requirement already satisfied, skipping upgrade: numpy>=1.14.5 in d:\\rgzn\\lib\\site-packages (from opencv-python->paddlehub) (1.16.5)\n",
      "Requirement already satisfied, skipping upgrade: cfgv>=2.0.0 in d:\\rgzn\\lib\\site-packages (from pre-commit->paddlehub) (3.2.0)\n",
      "Requirement already satisfied, skipping upgrade: identify>=1.0.0 in d:\\rgzn\\lib\\site-packages (from pre-commit->paddlehub) (1.5.10)\n",
      "Requirement already satisfied, skipping upgrade: toml in d:\\rgzn\\lib\\site-packages (from pre-commit->paddlehub) (0.10.2)\n",
      "Requirement already satisfied, skipping upgrade: importlib-metadata; python_version < \"3.8\" in d:\\rgzn\\lib\\site-packages (from pre-commit->paddlehub) (0.23)\n",
      "Requirement already satisfied, skipping upgrade: virtualenv>=20.0.8 in d:\\rgzn\\lib\\site-packages (from pre-commit->paddlehub) (20.2.1)\n",
      "Requirement already satisfied, skipping upgrade: nodeenv>=0.11.1 in d:\\rgzn\\lib\\site-packages (from pre-commit->paddlehub) (1.5.0)\n",
      "Requirement already satisfied, skipping upgrade: pyyaml>=5.1 in d:\\rgzn\\lib\\site-packages (from pre-commit->paddlehub) (5.1.2)\n",
      "Requirement already satisfied, skipping upgrade: colorama; sys_platform == \"win32\" in d:\\rgzn\\lib\\site-packages (from colorlog->paddlehub) (0.4.1)\n",
      "Requirement already satisfied, skipping upgrade: Jinja2>=2.10.1 in d:\\rgzn\\lib\\site-packages (from flask>=1.1.0->paddlehub) (2.10.3)\n",
      "Requirement already satisfied, skipping upgrade: click>=5.1 in d:\\rgzn\\lib\\site-packages (from flask>=1.1.0->paddlehub) (7.0)\n",
      "Requirement already satisfied, skipping upgrade: itsdangerous>=0.24 in d:\\rgzn\\lib\\site-packages (from flask>=1.1.0->paddlehub) (1.1.0)\n",
      "Requirement already satisfied, skipping upgrade: Werkzeug>=0.15 in d:\\rgzn\\lib\\site-packages (from flask>=1.1.0->paddlehub) (0.16.0)\n",
      "Requirement already satisfied, skipping upgrade: mccabe<0.7.0,>=0.6.0 in d:\\rgzn\\lib\\site-packages (from flake8->paddlehub) (0.6.1)\n",
      "Requirement already satisfied, skipping upgrade: pyflakes<2.3.0,>=2.2.0 in d:\\rgzn\\lib\\site-packages (from flake8->paddlehub) (2.2.0)\n",
      "Requirement already satisfied, skipping upgrade: pycodestyle<2.7.0,>=2.6.0a1 in d:\\rgzn\\lib\\site-packages (from flake8->paddlehub) (2.6.0)\n",
      "Requirement already satisfied, skipping upgrade: Flask-Babel>=1.0.0 in d:\\rgzn\\lib\\site-packages (from visualdl->paddlehub) (2.0.0)\n",
      "Requirement already satisfied, skipping upgrade: bce-python-sdk in d:\\rgzn\\lib\\site-packages (from visualdl->paddlehub) (0.8.53)\n",
      "Requirement already satisfied, skipping upgrade: Pillow>=7.0.0 in d:\\rgzn\\lib\\site-packages (from visualdl->paddlehub) (8.0.1)\n",
      "Requirement already satisfied, skipping upgrade: requests in d:\\rgzn\\lib\\site-packages (from visualdl->paddlehub) (2.22.0)\n",
      "Requirement already satisfied, skipping upgrade: python-dateutil>=2.6.1 in d:\\rgzn\\lib\\site-packages (from pandas->paddlehub) (2.8.0)\n",
      "Requirement already satisfied, skipping upgrade: pytz>=2017.2 in d:\\rgzn\\lib\\site-packages (from pandas->paddlehub) (2019.3)\n",
      "Requirement already satisfied, skipping upgrade: zipp>=0.5 in d:\\rgzn\\lib\\site-packages (from importlib-metadata; python_version < \"3.8\"->pre-commit->paddlehub) (0.6.0)\n",
      "Requirement already satisfied, skipping upgrade: filelock<4,>=3.0.0 in d:\\rgzn\\lib\\site-packages (from virtualenv>=20.0.8->pre-commit->paddlehub) (3.0.12)\n",
      "Requirement already satisfied, skipping upgrade: distlib<1,>=0.3.1 in d:\\rgzn\\lib\\site-packages (from virtualenv>=20.0.8->pre-commit->paddlehub) (0.3.1)\n",
      "Requirement already satisfied, skipping upgrade: appdirs<2,>=1.4.3 in d:\\rgzn\\lib\\site-packages (from virtualenv>=20.0.8->pre-commit->paddlehub) (1.4.4)\n",
      "Requirement already satisfied, skipping upgrade: MarkupSafe>=0.23 in d:\\rgzn\\lib\\site-packages (from Jinja2>=2.10.1->flask>=1.1.0->paddlehub) (1.1.1)\n",
      "Requirement already satisfied, skipping upgrade: Babel>=2.3 in d:\\rgzn\\lib\\site-packages (from Flask-Babel>=1.0.0->visualdl->paddlehub) (2.7.0)\n",
      "Requirement already satisfied, skipping upgrade: pycryptodome>=3.8.0 in d:\\rgzn\\lib\\site-packages (from bce-python-sdk->visualdl->paddlehub) (3.9.9)\n",
      "Requirement already satisfied, skipping upgrade: future>=0.6.0 in d:\\rgzn\\lib\\site-packages (from bce-python-sdk->visualdl->paddlehub) (0.17.1)\n",
      "Requirement already satisfied, skipping upgrade: urllib3!=1.25.0,!=1.25.1,<1.26,>=1.21.1 in d:\\rgzn\\lib\\site-packages (from requests->visualdl->paddlehub) (1.24.2)\n",
      "Requirement already satisfied, skipping upgrade: chardet<3.1.0,>=3.0.2 in d:\\rgzn\\lib\\site-packages (from requests->visualdl->paddlehub) (3.0.4)\n",
      "Requirement already satisfied, skipping upgrade: idna<2.9,>=2.5 in d:\\rgzn\\lib\\site-packages (from requests->visualdl->paddlehub) (2.8)\n",
      "Requirement already satisfied, skipping upgrade: certifi>=2017.4.17 in d:\\rgzn\\lib\\site-packages (from requests->visualdl->paddlehub) (2019.9.11)\n",
      "Requirement already satisfied, skipping upgrade: more-itertools in d:\\rgzn\\lib\\site-packages (from zipp>=0.5->importlib-metadata; python_version < \"3.8\"->pre-commit->paddlehub) (7.2.0)\n"
     ]
    },
    {
     "name": "stderr",
     "output_type": "stream",
     "text": [
      "WARNING: Retrying (Retry(total=4, connect=None, read=None, redirect=None, status=None)) after connection broken by 'ConnectTimeoutError(<pip._vendor.urllib3.connection.VerifiedHTTPSConnection object at 0x000001FE6D7B84C8>, 'Connection to pypi.tuna.tsinghua.edu.cn timed out. (connect timeout=15)')': /simple/paddlehub/\n"
     ]
    }
   ],
   "source": [
    "# 更新paddlehub\n",
    "!pip install --upgrade paddlehub -i https://pypi.tuna.tsinghua.edu.cn/simple"
   ]
  },
  {
   "cell_type": "code",
   "execution_count": 7,
   "metadata": {},
   "outputs": [],
   "source": [
    "# 划分验证集，保存格式  text[\\t]label\n",
    "from sklearn.model_selection import train_test_split\n",
    "\n",
    "train_labled[\"content\"] = train_labled[\"content\"].astype(str)\n",
    "train_labled[\"content\"] = train_labled[\"content\"].apply(lambda x: x.replace('\\t',''))\n",
    "train_labled[\"content\"] = train_labled[\"content\"].apply(lambda x: x.replace('\\n',''))\n",
    "\n",
    "train_labled[\"comment_all\"] = train_labled[\"comment_all\"].astype(str)\n",
    "train_labled[\"comment_all\"] = train_labled[\"comment_all\"].apply(lambda x: x.replace('\\t',''))\n",
    "train_labled[\"comment_all\"] = train_labled[\"comment_all\"].apply(lambda x: x.replace('\\n',''))\n",
    "\n",
    "#train_labled = train_labled[['content', 'label']]\n",
    "train_labled = train_labled[['content','comment_all', 'label']]\n",
    "train, valid = train_test_split(train_labled, test_size=0.2, random_state=2020)\n",
    "train.to_csv('data/data23977/train.txt', index=False, header=False, sep='\\t')\n",
    "valid.to_csv('data/data23977/valid.txt', index=False, header=False, sep='\\t')"
   ]
  },
  {
   "cell_type": "code",
   "execution_count": 8,
   "metadata": {},
   "outputs": [],
   "source": [
    "import csv\n",
    "import io\n",
    "with io.open('data/train.txt', \"r\", encoding=\"UTF-8\") as file:\n",
    "    reader = csv.reader(file, delimiter=\"\\t\", quotechar=None)\n",
    "    for (i, line) in enumerate(reader):\n",
    "        ncol = len(line)\n",
    "        if ncol < 3:\n",
    "            print(i)\n",
    "            print(line)\n"
   ]
  },
  {
   "cell_type": "code",
   "execution_count": 9,
   "metadata": {},
   "outputs": [
    {
     "name": "stdout",
     "output_type": "stream",
     "text": [
      "<class 'pandas.core.frame.DataFrame'>\n",
      "RangeIndex: 49910 entries, 0 to 49909\n",
      "Data columns (total 3 columns):\n",
      "content        49910 non-null object\n",
      "comment_all    49910 non-null object\n",
      "label          49910 non-null int64\n",
      "dtypes: int64(1), object(2)\n",
      "memory usage: 1.1+ MB\n"
     ]
    }
   ],
   "source": [
    "train_labled.info(verbose=True,null_counts=True)"
   ]
  },
  {
   "cell_type": "code",
   "execution_count": 10,
   "metadata": {},
   "outputs": [
    {
     "name": "stdout",
     "output_type": "stream",
     "text": [
      "0\t终于来了！&#xe627; 王凯 首张个人音乐作品#王凯画外音# 重磅完整上线🎊网页链接 超豪华金曲阵容&#xe627; 蔡健雅&#xe627; 吴青峰 等全亚洲优秀音乐人鼎力支持打造品质上乘的概念唱片凯哥哥用细腻温柔的声线...展开全文c\t特别棒特别有诚意的专辑，喜欢@王凯kkw;;喜欢这种声音很有磁性[米奇比心][米奇比心]听完了整张专辑，王凯的歌声和独白特别打动人心，可以看出他是用很专业很用心的态度来对待这张专辑[good]像一个广播剧，听完像看完一场电影一样整张专辑就是一个完整的故事，非常的喜欢💕用os+歌曲的形式串联起一个完整的音乐故事，这种设计太有画面感，太棒了！很棒的音乐专辑，像一部音乐剧，一个完整的故事。正在循环听，整张专辑，如同一部音乐剧，感谢优秀的制作团队，感谢歌手王凯，非常喜欢。有声有画面的音乐，会让人有身临其境的感觉，词好，曲好，解说的好！演员的画外音，歌手的内心戏，就这么缓缓地流进了我的心……[米奇比心][米奇比心]画外音让人见识了王凯除演员之外，作为歌手的魅力，他在用音乐讲述内心的故事，教给我们怎样在伤痛面前收获一份淡然和洒脱。非常有创意又心意满满的作品，仿佛一部音乐剧。王凯独特的嗓音故事感太强，让人不由自主沉醉其中@王凯kkw诚意满满的作品[米奇比心][米奇比心][米奇比心]王凯哥哥这张专辑真的很棒！王凯画外音超话棒极啦！从头听到尾，感觉像是读了一个故事！好好听[米奇比心][给你小心心]王凯超话音樂與OS，串起了故事，闡述了畫外音。@王凯kkw;;好好听[给你小心心]1[给你小心心]感谢诚意满满的凯哥，感谢优秀的制作团队，一张特别的专辑，好极了@王凯kkw透过《画外音》，脑中浮现出一个完整画面，不管是一个人还是一群人，从冷清到温暖，认识王凯就像认识了小小的太阳，很炙热，很深情。真好！@王凯kkw@王凯kkw首张个人音乐作品「画外音」1、intro（序曲）2、一个人也很好（os）3、一人份的孤独4、不是真的（os）5、心上的茧6、那你呢（os）7、还有什么不敢8、画外音（os）9、脊椎（os）10、k＇sradio11、第一段没问题了，是吗？12、小小的太阳13、outro持續）听过之后便不舍得退出，循环一整天！慢慢的一整张专辑听下来才能理解王凯想说的。[心]1[心]2[心][心]特别棒@王凯kkw;;听了几天了很喜欢淡淡的诉说\n",
      "1\t#塘沽爆炸真相#牺牲了这么多年轻的生命，政府连个真相都不敢给？\t智商堪忧！那个离事发地800米的女的也只震到休克被自己老公背下去了。还有学校大半夜还有人啊？居然还全死了啊？有没有点判断力？这种时候造谣是会遭报应的！天啊;;已经够乱了500米开外就是商业楼，几个政府高官在记者面前被问到城市规划面面相觑，当场直播掐断，可怜了那几个8090的消防英雄，人生才刚刚开始祈福因与问责同在。。。[悲伤][悲伤]1[悲伤]2好心痛[悲伤]@韩曼慢漫缦熳回复@Una童鞋:也不知道是咱俩谁智商堪忧！你看清楚再说话行吗？第一张图说的意思是第一批消防员进去救援时发生了第二次的爆炸，所以第一批救援的消防员全部牺牲了，也没提受伤的居民啊！真不知道你在说什么！\n",
      "2\t转发来自央视的消息：中央电视台《焦点访谈》已经播出，可口可乐承认旗下(果粒橙)含有美国禁用农药「多菌灵」，多菌灵可致脑麻痺、肝脏腫瘤等癌症。包括香港正在销售的（果粒橙），香港食环署正在了解此事件。专家指出，（多菌灵）跟其他农药一样，对脑部影响最大，可引致局部麻痹，并会导致癌症。\t还不睡觉啊！好晚了！回复@阿曼蓝羽:好久不见你冒泡了，最近怎样？我忙到这会。碎去咯！美女！[爱你]回复@林姝敏:好久没有回你评论而已啦！最近你们肯定很忙！[抱抱]回复@孔凡威:感谢您对可口可乐的关注。央视已澄清此事为蓄意造谣（O网页链接）。为了对广大消费者负责，可口可乐已针对该起恶性网络谣言攻击拿起法律武器来维护中国的良性商业环境。（O网页链接），也希望您删除谣言和我们一起不信谣，不传谣。[呵呵]\n",
      "3\t#南国新闻速递##南国海口读本#【《海口椰晨幼儿园孩子不睡午觉被喂辣椒酱》追踪涉事人员列入行业黑名单椰晨幼儿园半年内暂停招收新生】5月12日，海口市政府官方微信公众号“海口发布”通报了关于椰晨幼儿园人员喂幼儿辣椒酱一事的最新处理情况，据通报：5月11日，海口秀英区通报椰晨幼儿园从业人员...\tnan\n"
     ]
    }
   ],
   "source": [
    "# 自定义数据集\n",
    "import os\n",
    "import codecs\n",
    "import csv\n",
    "\n",
    "from paddlehub.dataset.base_nlp_dataset import BaseNLPDataset\n",
    "\n",
    "class MyDataset(BaseNLPDataset):\n",
    "    \"\"\"DemoDataset\"\"\"\n",
    "    def __init__(self):\n",
    "        # 数据集存放位置\n",
    "        self.dataset_dir =\"data/data23977/\"\n",
    "        super(MyDataset, self).__init__(\n",
    "            base_path=self.dataset_dir,\n",
    "            train_file=\"train.txt\",\n",
    "            dev_file=\"valid.txt\",\n",
    "            test_file=\"valid.txt\",\n",
    "            train_file_with_header=False,\n",
    "            dev_file_with_header=False,\n",
    "            test_file_with_header=False,\n",
    "            # 数据集类别集合\n",
    "            label_list=[\"0\", \"1\", \"2\"])\n",
    "\n",
    "dataset = MyDataset()\n",
    "for e in dataset.get_train_examples()[:4]:\n",
    "    print(\"{}\\t{}\\t{}\".format(e.guid, e.text_a, e.text_b,e.label))"
   ]
  },
  {
   "cell_type": "code",
   "execution_count": 11,
   "metadata": {},
   "outputs": [
    {
     "name": "stderr",
     "output_type": "stream",
     "text": [
      "\u001b[32m[2020-12-04 23:16:54,057] [    INFO] - Installing ernie module\u001b[0m\n",
      "\u001b[32m[2020-12-04 23:16:54,318] [    INFO] - Module ernie already installed in C:\\Users\\96075\\.paddlehub\\modules\\ernie\u001b[0m\n"
     ]
    }
   ],
   "source": [
    "# 加载模型\n",
    "import paddlehub as hub\n",
    "module = hub.Module(name=\"ernie\")"
   ]
  },
  {
   "cell_type": "code",
   "execution_count": 12,
   "metadata": {},
   "outputs": [
    {
     "name": "stderr",
     "output_type": "stream",
     "text": [
      "\u001b[32m[2020-12-04 23:17:14,546] [    INFO] - Dataset label map = {'0': 0, '1': 1, '2': 2}\u001b[0m\n"
     ]
    }
   ],
   "source": [
    "# 构建Reader\n",
    "reader = hub.reader.ClassifyReader(\n",
    "    dataset=dataset,\n",
    "    vocab_path=module.get_vocab_path(),\n",
    "    sp_model_path=module.get_spm_path(),\n",
    "    word_dict_path=module.get_word_dict_path(),\n",
    "    max_seq_len=150)"
   ]
  },
  {
   "cell_type": "code",
   "execution_count": 13,
   "metadata": {},
   "outputs": [],
   "source": [
    "# finetune策略\n",
    "strategy = hub.AdamWeightDecayStrategy(\n",
    "    weight_decay=0.01,\n",
    "    warmup_proportion=0.1,\n",
    "    learning_rate=5e-5)"
   ]
  },
  {
   "cell_type": "code",
   "execution_count": 18,
   "metadata": {},
   "outputs": [
    {
     "name": "stderr",
     "output_type": "stream",
     "text": [
      "\u001b[32m[2020-12-04 23:21:16,284] [    INFO] - Checkpoint dir: model\u001b[0m\n"
     ]
    }
   ],
   "source": [
    "# 运行配置\n",
    "config = hub.RunConfig(\n",
    "    use_cuda=False,\n",
    "    num_epoch=1,\n",
    "    checkpoint_dir=\"model\",\n",
    "    batch_size=32,\n",
    "    eval_interval=100,\n",
    "    strategy=strategy)"
   ]
  },
  {
   "cell_type": "code",
   "execution_count": 19,
   "metadata": {},
   "outputs": [
    {
     "name": "stderr",
     "output_type": "stream",
     "text": [
      "!!! The CPU_NUM is not specified, you should set CPU_NUM in the environment variable list.\n",
      "CPU_NUM indicates that how many CPUPlace are used in the current task.\n",
      "And if this parameter are set as N (equal to the number of physical CPU core) the program may be faster.\n",
      "\n",
      "export CPU_NUM=8 # for example, set CPU_NUM as number of physical CPU core which is 8.\n",
      "\n",
      "!!! The default number of CPU_NUM=1.\n",
      "\u001b[33m[2020-12-04 23:21:27,090] [ WARNING] - PaddleHub v1.8 has deprecated the reader and feed_list parameters in the nlp Task. We provided an easier usage, in which you can use your tokenizer to preprocess dataset and run task in a clear flow. New demo see https://github.com/PaddlePaddle/PaddleHub/blob/release/v1.8/demo/text_classification/text_cls.py\u001b[0m\n"
     ]
    }
   ],
   "source": [
    "# Finetune Task\n",
    "inputs, outputs, program = module.context(\n",
    "    trainable=True, max_seq_len=150)\n",
    "# Use \"pooled_output\" for classification tasks on an entire sentence.\n",
    "pooled_output = outputs[\"pooled_output\"]\n",
    "feed_list = [\n",
    "    inputs[\"input_ids\"].name,\n",
    "    inputs[\"position_ids\"].name,\n",
    "    inputs[\"segment_ids\"].name,\n",
    "    inputs[\"input_mask\"].name,\n",
    "]\n",
    "cls_task = hub.TextClassifierTask(\n",
    "        data_reader=reader,\n",
    "        feature=pooled_output,\n",
    "        feed_list=feed_list,\n",
    "        num_classes=dataset.num_labels,\n",
    "        config=config,\n",
    "        metrics_choices=[\"acc\"])"
   ]
  },
  {
   "cell_type": "code",
   "execution_count": null,
   "metadata": {},
   "outputs": [
    {
     "name": "stderr",
     "output_type": "stream",
     "text": [
      "D:\\rgzn\\lib\\site-packages\\paddle\\fluid\\clip.py:779: UserWarning: Caution! 'set_gradient_clip' is not recommended and may be deprecated in future! We recommend a new strategy: set 'grad_clip' when initializing the 'optimizer'. This method can reduce the mistakes, please refer to documention of 'optimizer'.\n",
      "  warnings.warn(\"Caution! 'set_gradient_clip' is not recommended \"\n",
      "\u001b[32m[2020-12-04 23:21:41,921] [    INFO] - Strategy with warmup, linear decay, slanted triangle learning rate, weight decay regularization, \u001b[0m\n",
      "D:\\rgzn\\lib\\site-packages\\paddle\\fluid\\executor.py:1093: UserWarning: There are no operators in the program to be executed. If you pass Program manually, please use fluid.program_guard to ensure the current Program is being used.\n",
      "  warnings.warn(error_info)\n",
      "\u001b[32m[2020-12-04 23:21:42,040] [    INFO] - Try loading checkpoint from model\\ckpt.meta\u001b[0m\n",
      "\u001b[32m[2020-12-04 23:21:42,041] [    INFO] - PaddleHub model checkpoint not found, start from scratch...\u001b[0m\n",
      "\u001b[32m[2020-12-04 23:21:42,565] [    INFO] - PaddleHub finetune start\u001b[0m\n",
      "\u001b[36m[2020-12-04 23:31:18,843] [   TRAIN] - step 10 / 1247: loss=1.18607 acc=0.33125 [step/sec: 0.02]\u001b[0m\n",
      "\u001b[36m[2020-12-04 23:40:52,706] [   TRAIN] - step 20 / 1247: loss=1.17680 acc=0.27813 [step/sec: 0.02]\u001b[0m\n",
      "\u001b[36m[2020-12-04 23:50:14,532] [   TRAIN] - step 30 / 1247: loss=1.08815 acc=0.40937 [step/sec: 0.02]\u001b[0m\n"
     ]
    }
   ],
   "source": [
    "# finetune\n",
    "run_states = cls_task.finetune_and_eval()"
   ]
  },
  {
   "cell_type": "code",
   "execution_count": null,
   "metadata": {},
   "outputs": [],
   "source": [
    "# 预测\n",
    "import numpy as np\n",
    "    \n",
    "inv_label_map = {val: key for key, val in reader.label_map.items()}\n",
    "\n",
    "# Data to be prdicted\n",
    "data = test[['content','comment_all']].fillna(' ').values.tolist()\n",
    "\n",
    "run_states = cls_task.predict(data=data)\n",
    "results = [run_state.run_results for run_state in run_states]\n"
   ]
  },
  {
   "cell_type": "code",
   "execution_count": null,
   "metadata": {},
   "outputs": [],
   "source": [
    "# 生成预测结果\n",
    "\n",
    "proba = np.vstack([r[0] for r in results])\n",
    "\n",
    "submission = pd.DataFrame()\n",
    "submission['id'] = test['id'].values\n",
    "submission['ncw_prob_label_0c'], submission['fake_prob_label_0c'], submission['real_prob_label_0c'] = proba[:,0],proba[:,1],proba[:,2]\n",
    "\n",
    "submission.to_csv('result/result.csv', index=False)\n",
    "submission.head()\n"
   ]
  },
  {
   "cell_type": "code",
   "execution_count": null,
   "metadata": {},
   "outputs": [],
   "source": []
  },
  {
   "cell_type": "code",
   "execution_count": null,
   "metadata": {},
   "outputs": [],
   "source": []
  }
 ],
 "metadata": {
  "kernelspec": {
   "display_name": "Python 3",
   "language": "python",
   "name": "python3"
  },
  "language_info": {
   "codemirror_mode": {
    "name": "ipython",
    "version": 3
   },
   "file_extension": ".py",
   "mimetype": "text/x-python",
   "name": "python",
   "nbconvert_exporter": "python",
   "pygments_lexer": "ipython3",
   "version": "3.7.4"
  }
 },
 "nbformat": 4,
 "nbformat_minor": 1
}
