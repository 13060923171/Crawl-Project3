{
 "cells": [
  {
   "cell_type": "code",
   "execution_count": 21,
   "metadata": {},
   "outputs": [],
   "source": [
    "import numpy as np\n",
    "import cv2"
   ]
  },
  {
   "cell_type": "code",
   "execution_count": 26,
   "metadata": {},
   "outputs": [
    {
     "name": "stdout",
     "output_type": "stream",
     "text": [
      "30.1 568 320\n"
     ]
    }
   ],
   "source": [
    "#从文件读取视频内容\n",
    "cap = cv2.VideoCapture('cats.mp4')\n",
    "#视频每秒传输帧数\n",
    "fps = cap.get(cv2.CAP_PROP_FPS)\n",
    "#视频图像的宽度\n",
    "framde_width = int(cap.get(cv2.CAP_PROP_FRAME_WIDTH))\n",
    "#视频图像长度\n",
    "framde_hight = int(cap.get(cv2.CAP_PROP_FRAME_HEIGHT))\n",
    "print(fps,framde_width,framde_hight)"
   ]
  },
  {
   "cell_type": "code",
   "execution_count": 27,
   "metadata": {},
   "outputs": [],
   "source": [
    "while True:\n",
    "    #ret读取成功True或False\n",
    "    #frame读取到的图像内容\n",
    "    #读取一帧数据\n",
    "    ret,frame = cap.read()\n",
    "    \n",
    "    if ret != True:\n",
    "        break\n",
    "    cv2.imshow('frame',frame)\n",
    "    #waitKey功能是不断刷新图像，单位ms,返回值是当前键盘按键值\n",
    "    #ord返回对应的ASCII数值\n",
    "    if cv2.waitKey(1) & 0xff == ord('q'):\n",
    "        break\n",
    "cap.release()\n",
    "cv2.destroyAllWindows()"
   ]
  },
  {
   "cell_type": "code",
   "execution_count": 28,
   "metadata": {},
   "outputs": [],
   "source": [
    "fourcc = cv2.VideoWriter_fourcc(*'XVID')\n",
    "out = cv2.VideoWriter('output_LnBSj.avi',fourcc,fps,(framde_width,framde_hight))\n",
    "while True:\n",
    "    ret,frame = cap.read()\n",
    "    if ret == True:\n",
    "        frame = cv2.flip(frame,1)\n",
    "        out.write(frame)\n",
    "        cv2.imshow('frame',frame)\n",
    "    else:\n",
    "        break"
   ]
  },
  {
   "cell_type": "code",
   "execution_count": null,
   "metadata": {},
   "outputs": [],
   "source": []
  },
  {
   "cell_type": "code",
   "execution_count": null,
   "metadata": {},
   "outputs": [],
   "source": []
  },
  {
   "cell_type": "code",
   "execution_count": null,
   "metadata": {},
   "outputs": [],
   "source": []
  }
 ],
 "metadata": {
  "kernelspec": {
   "display_name": "Python 3",
   "language": "python",
   "name": "python3"
  },
  "language_info": {
   "codemirror_mode": {
    "name": "ipython",
    "version": 3
   },
   "file_extension": ".py",
   "mimetype": "text/x-python",
   "name": "python",
   "nbconvert_exporter": "python",
   "pygments_lexer": "ipython3",
   "version": "3.7.4"
  }
 },
 "nbformat": 4,
 "nbformat_minor": 2
}
