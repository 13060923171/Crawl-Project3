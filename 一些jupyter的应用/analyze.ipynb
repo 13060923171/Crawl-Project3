{
 "cells": [
  {
   "cell_type": "code",
   "execution_count": 5,
   "metadata": {},
   "outputs": [],
   "source": [
    "import numpy as np\n",
    "import pandas as pd"
   ]
  },
  {
   "cell_type": "code",
   "execution_count": 6,
   "metadata": {},
   "outputs": [
    {
     "name": "stdout",
     "output_type": "stream",
     "text": [
      "(49910, 9)\n"
     ]
    },
    {
     "data": {
      "text/html": [
       "<div>\n",
       "<style scoped>\n",
       "    .dataframe tbody tr th:only-of-type {\n",
       "        vertical-align: middle;\n",
       "    }\n",
       "\n",
       "    .dataframe tbody tr th {\n",
       "        vertical-align: top;\n",
       "    }\n",
       "\n",
       "    .dataframe thead th {\n",
       "        text-align: right;\n",
       "    }\n",
       "</style>\n",
       "<table border=\"1\" class=\"dataframe\">\n",
       "  <thead>\n",
       "    <tr style=\"text-align: right;\">\n",
       "      <th></th>\n",
       "      <th>id</th>\n",
       "      <th>content</th>\n",
       "      <th>picture_lists</th>\n",
       "      <th>category</th>\n",
       "      <th>ncw_label</th>\n",
       "      <th>fake_label</th>\n",
       "      <th>real_label</th>\n",
       "      <th>comment_2c</th>\n",
       "      <th>comment_all</th>\n",
       "    </tr>\n",
       "  </thead>\n",
       "  <tbody>\n",
       "    <tr>\n",
       "      <td>0</td>\n",
       "      <td>4028762460708675</td>\n",
       "      <td>回复新浪网友对博文【国家文物局限制鉴宝节目现场估价转】的评论：;;查看原文：</td>\n",
       "      <td>NaN</td>\n",
       "      <td>文体娱乐</td>\n",
       "      <td>0</td>\n",
       "      <td>0</td>\n",
       "      <td>1</td>\n",
       "      <td>NaN</td>\n",
       "      <td>NaN</td>\n",
       "    </tr>\n",
       "    <tr>\n",
       "      <td>1</td>\n",
       "      <td>4126670854660291</td>\n",
       "      <td>//分享网易新闻:《发生在昆明的火锅店老板“辱滇门”，云南人该愤怒还是羞愧》|发生在昆明.....</td>\n",
       "      <td>63ad082a189566eed7c4bb3e4bc55012.jpg</td>\n",
       "      <td>社会生活</td>\n",
       "      <td>0</td>\n",
       "      <td>0</td>\n",
       "      <td>1</td>\n",
       "      <td>NaN</td>\n",
       "      <td>NaN</td>\n",
       "    </tr>\n",
       "    <tr>\n",
       "      <td>2</td>\n",
       "      <td>3702441948299962</td>\n",
       "      <td>西宁城管围殴民警扬言要把警察打死|西宁城管围...</td>\n",
       "      <td>4986dc2a5f09a87c7af5dfc57d7775cd.jpg</td>\n",
       "      <td>社会生活</td>\n",
       "      <td>0</td>\n",
       "      <td>0</td>\n",
       "      <td>1</td>\n",
       "      <td>NaN</td>\n",
       "      <td>NaN</td>\n",
       "    </tr>\n",
       "    <tr>\n",
       "      <td>3</td>\n",
       "      <td>4239549419245466</td>\n",
       "      <td>【川航航班因驾驶舱风挡破裂安全备降成都】今天上午6:26从重庆江北国际机场出发前往拉萨的四川...</td>\n",
       "      <td>dcfccfc69e90a0007afd6aafa1385e56.jpg</td>\n",
       "      <td>社会生活</td>\n",
       "      <td>0</td>\n",
       "      <td>0</td>\n",
       "      <td>1</td>\n",
       "      <td>NaN</td>\n",
       "      <td>NaN</td>\n",
       "    </tr>\n",
       "    <tr>\n",
       "      <td>4</td>\n",
       "      <td>3966337217183260</td>\n",
       "      <td>支持郑强！！！//【贵州大学校长回应空姐言论:常给她们写感谢信】</td>\n",
       "      <td>NaN</td>\n",
       "      <td>社会生活</td>\n",
       "      <td>0</td>\n",
       "      <td>0</td>\n",
       "      <td>1</td>\n",
       "      <td>NaN</td>\n",
       "      <td>NaN</td>\n",
       "    </tr>\n",
       "  </tbody>\n",
       "</table>\n",
       "</div>"
      ],
      "text/plain": [
       "                 id                                            content  \\\n",
       "0  4028762460708675             回复新浪网友对博文【国家文物局限制鉴宝节目现场估价转】的评论：;;查看原文：   \n",
       "1  4126670854660291  //分享网易新闻:《发生在昆明的火锅店老板“辱滇门”，云南人该愤怒还是羞愧》|发生在昆明.....   \n",
       "2  3702441948299962                          西宁城管围殴民警扬言要把警察打死|西宁城管围...   \n",
       "3  4239549419245466  【川航航班因驾驶舱风挡破裂安全备降成都】今天上午6:26从重庆江北国际机场出发前往拉萨的四川...   \n",
       "4  3966337217183260                   支持郑强！！！//【贵州大学校长回应空姐言论:常给她们写感谢信】   \n",
       "\n",
       "                          picture_lists category  ncw_label  fake_label  \\\n",
       "0                                   NaN     文体娱乐          0           0   \n",
       "1  63ad082a189566eed7c4bb3e4bc55012.jpg     社会生活          0           0   \n",
       "2  4986dc2a5f09a87c7af5dfc57d7775cd.jpg     社会生活          0           0   \n",
       "3  dcfccfc69e90a0007afd6aafa1385e56.jpg     社会生活          0           0   \n",
       "4                                   NaN     社会生活          0           0   \n",
       "\n",
       "   real_label comment_2c comment_all  \n",
       "0           1        NaN         NaN  \n",
       "1           1        NaN         NaN  \n",
       "2           1        NaN         NaN  \n",
       "3           1        NaN         NaN  \n",
       "4           1        NaN         NaN  "
      ]
     },
     "execution_count": 6,
     "metadata": {},
     "output_type": "execute_result"
    }
   ],
   "source": [
    "train_df = pd.read_csv('train.csv')\n",
    "print(train_df.shape)\n",
    "train_df.head()"
   ]
  },
  {
   "cell_type": "code",
   "execution_count": 8,
   "metadata": {},
   "outputs": [
    {
     "data": {
      "text/plain": [
       "(2614, 6)"
      ]
     },
     "execution_count": 8,
     "metadata": {},
     "output_type": "execute_result"
    }
   ],
   "source": [
    "test_df = pd.read_csv('test_dataset_update.csv')\n",
    "test_df.shape"
   ]
  },
  {
   "cell_type": "code",
   "execution_count": 9,
   "metadata": {},
   "outputs": [
    {
     "name": "stdout",
     "output_type": "stream",
     "text": [
      "train shape:(49910, 9)\n",
      "train null:0\n",
      "test null:0\n"
     ]
    }
   ],
   "source": [
    "print('train shape:{}'.format(train_df.shape))\n",
    "print('train null:{}'.format(train_df['content'].isnull().sum()))\n",
    "print('test null:{}'.format(test_df['content'].isnull().sum()))"
   ]
  },
  {
   "cell_type": "code",
   "execution_count": 10,
   "metadata": {},
   "outputs": [
    {
     "name": "stdout",
     "output_type": "stream",
     "text": [
      "0.3226607894209577\n",
      "0.3374273692646764\n",
      "0.33991184131436586\n"
     ]
    }
   ],
   "source": [
    "print(train_df['ncw_label'].sum() * 1.0 / train_df.shape[0])\n",
    "print(train_df['fake_label'].sum() * 1.0 / train_df.shape[0])\n",
    "print(train_df['real_label'].sum() * 1.0 / train_df.shape[0])"
   ]
  },
  {
   "cell_type": "code",
   "execution_count": 11,
   "metadata": {},
   "outputs": [
    {
     "name": "stdout",
     "output_type": "stream",
     "text": [
      "1994\n",
      "202\n",
      "473\n"
     ]
    }
   ],
   "source": [
    "# text_train_df = train_df.dropna(axis=0)\n",
    "# print(text_train_df.shape)\n",
    "texts = train_df['content'].tolist()\n",
    "max_len = 0\n",
    "df_len_list = []\n",
    "for i in range(len(texts)):\n",
    "    max_len = max(max_len, len(texts[i]))\n",
    "    df_len_list.append(len(texts[i]))\n",
    "print(max_len)\n",
    "\n",
    "sorted_len = sorted(df_len_list)\n",
    "print(sorted_len[int(len(sorted_len)*0.95)])\n",
    "print(sorted_len[int(len(sorted_len)*0.99)])"
   ]
  },
  {
   "cell_type": "code",
   "execution_count": 12,
   "metadata": {},
   "outputs": [],
   "source": [
    "def contact(str1, str2):\n",
    "    if pd.isnull(str2):\n",
    "        return str1\n",
    "    return str1 + str2"
   ]
  },
  {
   "cell_type": "code",
   "execution_count": 13,
   "metadata": {},
   "outputs": [
    {
     "name": "stdout",
     "output_type": "stream",
     "text": [
      "1994\n",
      "270\n",
      "498\n"
     ]
    }
   ],
   "source": [
    "train_df['content_comment_2c'] = train_df.apply(lambda x: contact(x['content'], x['comment_2c']), axis=1)\n",
    "texts = train_df['content_comment_2c'].tolist()\n",
    "max_len = 0\n",
    "df_len_list = []\n",
    "for i in range(len(texts)):\n",
    "    max_len = max(max_len, len(texts[i]))\n",
    "    df_len_list.append(len(texts[i]))\n",
    "print(max_len)\n",
    "\n",
    "sorted_len = sorted(df_len_list)\n",
    "print(sorted_len[int(len(sorted_len)*0.95)])\n",
    "print(sorted_len[int(len(sorted_len)*0.99)])"
   ]
  },
  {
   "cell_type": "code",
   "execution_count": 14,
   "metadata": {},
   "outputs": [
    {
     "name": "stdout",
     "output_type": "stream",
     "text": [
      "5192\n",
      "261\n",
      "958\n"
     ]
    }
   ],
   "source": [
    "train_df['content_comment_all'] = train_df.apply(lambda x: contact(x['content'], x['comment_all']), axis=1)\n",
    "texts = train_df['content_comment_all'].tolist()\n",
    "max_len = 0\n",
    "df_len_list = []\n",
    "for i in range(len(texts)):\n",
    "    max_len = max(max_len, len(texts[i]))\n",
    "    df_len_list.append(len(texts[i]))\n",
    "print(max_len)\n",
    "\n",
    "sorted_len = sorted(df_len_list)\n",
    "print(sorted_len[int(len(sorted_len)*0.75)])\n",
    "print(sorted_len[int(len(sorted_len)*0.95)])"
   ]
  },
  {
   "cell_type": "code",
   "execution_count": null,
   "metadata": {},
   "outputs": [],
   "source": []
  }
 ],
 "metadata": {
  "kernelspec": {
   "display_name": "Python 3",
   "language": "python",
   "name": "python3"
  },
  "language_info": {
   "codemirror_mode": {
    "name": "ipython",
    "version": 3
   },
   "file_extension": ".py",
   "mimetype": "text/x-python",
   "name": "python",
   "nbconvert_exporter": "python",
   "pygments_lexer": "ipython3",
   "version": "3.7.4"
  }
 },
 "nbformat": 4,
 "nbformat_minor": 4
}
